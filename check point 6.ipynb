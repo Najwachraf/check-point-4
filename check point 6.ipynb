{
 "cells": [
  {
   "cell_type": "markdown",
   "id": "e203edc5",
   "metadata": {},
   "source": [
    "# Question 1"
   ]
  },
  {
   "cell_type": "code",
   "execution_count": null,
   "id": "353ea310",
   "metadata": {},
   "outputs": [],
   "source": [
    "import numpy as np\n",
    "a=np.array([[1,2],[3,4]])\n",
    "a"
   ]
  },
  {
   "cell_type": "code",
   "execution_count": 4,
   "id": "19afc707",
   "metadata": {},
   "outputs": [
    {
     "data": {
      "text/plain": [
       "[[1, 2], [3, 4]]"
      ]
     },
     "execution_count": 4,
     "metadata": {},
     "output_type": "execute_result"
    }
   ],
   "source": [
    "a.tolist()"
   ]
  },
  {
   "cell_type": "markdown",
   "id": "fde0b3a6",
   "metadata": {},
   "source": [
    "# Question 2"
   ]
  },
  {
   "cell_type": "code",
   "execution_count": null,
   "id": "50fce982",
   "metadata": {},
   "outputs": [],
   "source": [
    "tab=np.array([[55,25,15],[30,44,2]])\n",
    "trace=np.trace(tab)\n",
    "print(trace)"
   ]
  },
  {
   "cell_type": "code",
   "execution_count": 15,
   "id": "0d1932ea",
   "metadata": {},
   "outputs": [
    {
     "name": "stdout",
     "output_type": "stream",
     "text": [
      "99\n"
     ]
    }
   ],
   "source": [
    "tab=np.array([[55,25],[30,44]])\n",
    "trace=np.trace(tab)\n",
    "print(trace)"
   ]
  },
  {
   "cell_type": "markdown",
   "id": "f3f96b8c",
   "metadata": {},
   "source": [
    "# Question 3"
   ]
  },
  {
   "cell_type": "code",
   "execution_count": 14,
   "id": "e6fa1598",
   "metadata": {},
   "outputs": [
    {
     "name": "stdout",
     "output_type": "stream",
     "text": [
      "[3 5]\n"
     ]
    }
   ],
   "source": [
    "x=np.array([[1,2],[3,5]])\n",
    "print(x[x>=3])"
   ]
  },
  {
   "cell_type": "code",
   "execution_count": 18,
   "id": "2e0f9fad",
   "metadata": {},
   "outputs": [
    {
     "name": "stdout",
     "output_type": "stream",
     "text": [
      "(array([1], dtype=int64), array([1], dtype=int64))\n"
     ]
    }
   ],
   "source": [
    "print(np.nonzero(x>3))"
   ]
  },
  {
   "cell_type": "markdown",
   "id": "40be836b",
   "metadata": {},
   "source": [
    "# Question 4"
   ]
  },
  {
   "cell_type": "code",
   "execution_count": 26,
   "id": "308f5728",
   "metadata": {},
   "outputs": [
    {
     "name": "stdout",
     "output_type": "stream",
     "text": [
      "a= [ 5 12  6]\n",
      "b= [ 5 12  6]\n",
      "le nouveau tableau est = [10 24 12]\n"
     ]
    }
   ],
   "source": [
    "a=np.array([5,12,6])\n",
    "b=np.array([5,12,6])\n",
    "c=a+b\n",
    "print(\"a=\",a)\n",
    "print(\"b=\",b)\n",
    "print(\"le nouveau tableau est =\",c)"
   ]
  },
  {
   "cell_type": "markdown",
   "id": "2a36fb8b",
   "metadata": {},
   "source": [
    "# Question 5"
   ]
  },
  {
   "cell_type": "code",
   "execution_count": 28,
   "id": "51b0e165",
   "metadata": {},
   "outputs": [
    {
     "name": "stdout",
     "output_type": "stream",
     "text": [
      "[[ 6 12]\n",
      " [24 40]\n",
      " [ 6  3]]\n"
     ]
    }
   ],
   "source": [
    "matrice1=np.array([[1,2],[3,4],[2,3]])\n",
    "matrice2=np.array([[6,6],[8,10],[3,1]])\n",
    "matrice3=matrice1*matrice2\n",
    "print(matrice3)"
   ]
  },
  {
   "cell_type": "code",
   "execution_count": 30,
   "id": "3078cf95",
   "metadata": {},
   "outputs": [
    {
     "data": {
      "text/plain": [
       "[[6, 12], [24, 40], [6, 3]]"
      ]
     },
     "execution_count": 30,
     "metadata": {},
     "output_type": "execute_result"
    }
   ],
   "source": [
    "matrice3.tolist()"
   ]
  },
  {
   "cell_type": "code",
   "execution_count": null,
   "id": "b874eb5d",
   "metadata": {},
   "outputs": [],
   "source": []
  }
 ],
 "metadata": {
  "kernelspec": {
   "display_name": "Python 3",
   "language": "python",
   "name": "python3"
  },
  "language_info": {
   "codemirror_mode": {
    "name": "ipython",
    "version": 3
   },
   "file_extension": ".py",
   "mimetype": "text/x-python",
   "name": "python",
   "nbconvert_exporter": "python",
   "pygments_lexer": "ipython3",
   "version": "3.8.8"
  }
 },
 "nbformat": 4,
 "nbformat_minor": 5
}
