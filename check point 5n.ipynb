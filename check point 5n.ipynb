{
 "cells": [
  {
   "cell_type": "markdown",
   "id": "e9f43155",
   "metadata": {},
   "source": [
    "# Question 1"
   ]
  },
  {
   "cell_type": "code",
   "execution_count": 2,
   "id": "66e2b022",
   "metadata": {},
   "outputs": [
    {
     "name": "stdout",
     "output_type": "stream",
     "text": [
      "1 2 3\n"
     ]
    }
   ],
   "source": [
    "class point3D:\n",
    "    def __init__(self,x,y,z):\n",
    "        self.x = x\n",
    "        self.y = y\n",
    "        self.z = z\n",
    "my_point = point3D(1,2,3)\n",
    "print(my_point.x,my_point.y,my_point.z)"
   ]
  },
  {
   "cell_type": "markdown",
   "id": "b9091424",
   "metadata": {},
   "source": [
    "# Question 2"
   ]
  },
  {
   "cell_type": "code",
   "execution_count": null,
   "id": "d4abc088",
   "metadata": {},
   "outputs": [],
   "source": [
    "class rectangle:\n",
    "    def __init__(self,longueur,largeur):\n",
    "        self.longueur=longueur\n",
    "        self.largeur=largeur\n",
    "    def aire(self):\n",
    "        ai=self.longueur*self.largeur\n",
    "        return ai\n",
    "    def perimetre(self):\n",
    "        perim=2*(self.longueur+self.largeur)\n",
    "        return perim\n",
    "rectangle1 = rectangle(3,4)\n",
    "print(\"l'aire du rectangle est:\", rectangle1.aire())\n",
    "print(\"perimetre du rectangle est:\", rectangle1.perimetre())"
   ]
  },
  {
   "cell_type": "markdown",
   "id": "fcab086f",
   "metadata": {},
   "source": [
    "# Question 3"
   ]
  },
  {
   "cell_type": "code",
   "execution_count": 3,
   "id": "e437fc1d",
   "metadata": {},
   "outputs": [
    {
     "name": "stdout",
     "output_type": "stream",
     "text": [
      "l'aire du cercle est: 28.274333882308138\n",
      "perimetre du cercle est: 18.84955592153876\n",
      "the point is inside or not: False\n"
     ]
    }
   ],
   "source": [
    "import math \n",
    "class cercle:\n",
    "    def __init__(self,ox,oy,rayon):\n",
    "        self.ox=ox\n",
    "        self.oy=oy\n",
    "        self.rayon=rayon\n",
    "    def aire(self):\n",
    "        ai = self.rayon**2*math.pi\n",
    "        return ai\n",
    "    def perimetre(self):\n",
    "        perim = 2*math.pi*self.rayon\n",
    "        return perim\n",
    "    def isInside(self,x,y):\n",
    "        a = (x,y) # Data point 1\n",
    "        b = (self.ox,self.oy) # Data point 2\n",
    "        dis = math.sqrt(sum( (a - b)**2 for a, b in zip(a, b)))\n",
    "        if dis < self.rayon:\n",
    "            return True\n",
    "        else:\n",
    "            return False\n",
    "cercle1 = cercle(0,0,3)\n",
    "print(\"l'aire du cercle est:\", cercle1.aire())\n",
    "print(\"perimetre du cercle est:\", cercle1.perimetre())\n",
    "print(\"the point is inside or not:\",cercle1.isInside(2,3))"
   ]
  },
  {
   "cell_type": "markdown",
   "id": "96c1c8b2",
   "metadata": {},
   "source": [
    "# Question 4"
   ]
  },
  {
   "cell_type": "code",
   "execution_count": 4,
   "id": "eceefb7c",
   "metadata": {},
   "outputs": [
    {
     "name": "stdout",
     "output_type": "stream",
     "text": [
      "le solde est : 3000\n",
      "le solde est : 2500\n"
     ]
    }
   ],
   "source": [
    "class banc:\n",
    "    def __init__(self,solde):\n",
    "        self.solde=solde\n",
    "    def versement(self,versement):\n",
    "        self.solde=self.solde+versement\n",
    "        return self.solde\n",
    "    def retrait(self,retrait):\n",
    "        self.solde=self.solde-retrait\n",
    "        return self.solde\n",
    "banc1=banc(2000)\n",
    "print(\"le solde est :\",banc1.versement(1000))\n",
    "print(\"le solde est :\",banc1.retrait(500))"
   ]
  },
  {
   "cell_type": "code",
   "execution_count": null,
   "id": "204875b7",
   "metadata": {},
   "outputs": [],
   "source": []
  }
 ],
 "metadata": {
  "kernelspec": {
   "display_name": "Python 3",
   "language": "python",
   "name": "python3"
  },
  "language_info": {
   "codemirror_mode": {
    "name": "ipython",
    "version": 3
   },
   "file_extension": ".py",
   "mimetype": "text/x-python",
   "name": "python",
   "nbconvert_exporter": "python",
   "pygments_lexer": "ipython3",
   "version": "3.8.8"
  }
 },
 "nbformat": 4,
 "nbformat_minor": 5
}
