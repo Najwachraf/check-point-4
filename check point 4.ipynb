{
 "cells": [
  {
   "cell_type": "markdown",
   "id": "50d402b1",
   "metadata": {},
   "source": [
    "# Question 1"
   ]
  },
  {
   "cell_type": "code",
   "execution_count": 13,
   "id": "ff5659a2",
   "metadata": {},
   "outputs": [
    {
     "name": "stdout",
     "output_type": "stream",
     "text": [
      "Maximum value: 104\n"
     ]
    }
   ],
   "source": [
    "numbers = [55, 4, 92, 1, 104, 64, 73, 99, 20]\n",
    "max_value = max(numbers)\n",
    "print('Maximum value:', max_value)"
   ]
  },
  {
   "cell_type": "code",
   "execution_count": 14,
   "id": "55749de7",
   "metadata": {},
   "outputs": [
    {
     "data": {
      "text/plain": [
       "104"
      ]
     },
     "execution_count": 14,
     "metadata": {},
     "output_type": "execute_result"
    }
   ],
   "source": [
    "def maximum(numbers):\n",
    "    numbers = [55, 4, 92, 1, 104, 64, 73, 99, 20]\n",
    "    max_value = max(numbers)\n",
    "    return max_value\n",
    "maximum(numbers)"
   ]
  },
  {
   "cell_type": "markdown",
   "id": "720105fa",
   "metadata": {},
   "source": [
    "# Question 2"
   ]
  },
  {
   "cell_type": "code",
   "execution_count": 16,
   "id": "4c31f854",
   "metadata": {},
   "outputs": [
    {
     "data": {
      "text/plain": [
       "(50, 30)"
      ]
     },
     "execution_count": 16,
     "metadata": {},
     "output_type": "execute_result"
    }
   ],
   "source": [
    "def addandsous (a,b):\n",
    "    add=a+b\n",
    "    sous=a-b\n",
    "    return add,sous\n",
    "addandsous(40,10)\n"
   ]
  },
  {
   "cell_type": "markdown",
   "id": "6f5d2084",
   "metadata": {},
   "source": [
    "# Question 3"
   ]
  },
  {
   "cell_type": "code",
   "execution_count": 56,
   "id": "792a101c",
   "metadata": {},
   "outputs": [
    {
     "data": {
      "text/plain": [
       "19472058777600"
      ]
     },
     "execution_count": 56,
     "metadata": {},
     "output_type": "execute_result"
    }
   ],
   "source": [
    "def liste_add(liste):\n",
    "    liste = [55, 4, 92, 1, 104, 64, 73, 99, 20]\n",
    "    x = 0\n",
    "    for i in liste:\n",
    "        x+=i\n",
    "    return x\n",
    "liste(liste)"
   ]
  },
  {
   "cell_type": "code",
   "execution_count": 55,
   "id": "2630f78b",
   "metadata": {},
   "outputs": [
    {
     "data": {
      "text/plain": [
       "19472058777600"
      ]
     },
     "execution_count": 55,
     "metadata": {},
     "output_type": "execute_result"
    }
   ],
   "source": [
    " def liste_mult(liste):\n",
    "    numbers = ([1, 10, 2, 2, 3, 7, 4, 20])\n",
    "    x = 1\n",
    "    for i in liste:\n",
    "        x*=i\n",
    "    return x\n",
    "liste_mult(numbers) "
   ]
  },
  {
   "cell_type": "code",
   "execution_count": 51,
   "id": "438c0b88",
   "metadata": {},
   "outputs": [],
   "source": [
    "def operationl(liste):\n",
    "    listadd = []\n",
    "    listmult = []\n",
    "    for i in range(len(liste)):\n",
    "        if i % 2 == 0:\n",
    "            listadd.append(liste[i])\n",
    "        else:\n",
    "            listmult.append(liste[i])\n",
    "            \n",
    "    somme = liste_add(listadd)\n",
    "    prod = liste_mult(listmult)\n",
    "    return somme, prod"
   ]
  },
  {
   "cell_type": "code",
   "execution_count": 52,
   "id": "c005923b",
   "metadata": {},
   "outputs": [
    {
     "data": {
      "text/plain": [
       "(10, 2800)"
      ]
     },
     "execution_count": 52,
     "metadata": {},
     "output_type": "execute_result"
    }
   ],
   "source": [
    "operationl([1, 10, 2, 2, 3, 7, 4, 20])"
   ]
  },
  {
   "cell_type": "markdown",
   "id": "1b733df7",
   "metadata": {},
   "source": [
    "# Questuion 4"
   ]
  },
  {
   "cell_type": "code",
   "execution_count": 10,
   "id": "e3c9fea3",
   "metadata": {},
   "outputs": [
    {
     "data": {
      "text/plain": [
       "[0, 5, 6, 89, 94]"
      ]
     },
     "execution_count": 10,
     "metadata": {},
     "output_type": "execute_result"
    }
   ],
   "source": [
    "d = [0,5,89,94,6]\n",
    "d.sort()\n",
    "d"
   ]
  },
  {
   "cell_type": "code",
   "execution_count": 1,
   "id": "560e4e89",
   "metadata": {},
   "outputs": [
    {
     "data": {
      "text/plain": [
       "['blanc', 'noir', 'rouge', 'vert']"
      ]
     },
     "execution_count": 1,
     "metadata": {},
     "output_type": "execute_result"
    }
   ],
   "source": [
    "color = [\"rouge\",\"vert\",\"noir\",\"blanc\"]\n",
    "color.sort()\n",
    "color"
   ]
  },
  {
   "cell_type": "code",
   "execution_count": null,
   "id": "dc521c3b",
   "metadata": {},
   "outputs": [],
   "source": [
    "# Question 5"
   ]
  },
  {
   "cell_type": "code",
   "execution_count": null,
   "id": "ee667120",
   "metadata": {},
   "outputs": [],
   "source": []
  }
 ],
 "metadata": {
  "kernelspec": {
   "display_name": "Python 3",
   "language": "python",
   "name": "python3"
  },
  "language_info": {
   "codemirror_mode": {
    "name": "ipython",
    "version": 3
   },
   "file_extension": ".py",
   "mimetype": "text/x-python",
   "name": "python",
   "nbconvert_exporter": "python",
   "pygments_lexer": "ipython3",
   "version": "3.8.8"
  }
 },
 "nbformat": 4,
 "nbformat_minor": 5
}
