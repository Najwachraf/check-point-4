{
 "cells": [
  {
   "cell_type": "markdown",
   "id": "0aee1397",
   "metadata": {},
   "source": [
    "# Question 1"
   ]
  },
  {
   "cell_type": "code",
   "execution_count": null,
   "id": "f770ade6",
   "metadata": {},
   "outputs": [],
   "source": [
    "class point3D:\n",
    "    def _init_(self, x, y, z):\n",
    "        self.x = x\n",
    "        self.y = y\n",
    "        self.z = z\n",
    "\n",
    "my_point = point3D(1,2,3)\n",
    "\n",
    "print(my_point.x, my_point.y, my_point.z)"
   ]
  },
  {
   "cell_type": "markdown",
   "id": "45081ff7",
   "metadata": {},
   "source": [
    "# Question 2"
   ]
  },
  {
   "cell_type": "code",
   "execution_count": null,
   "id": "a8657a51",
   "metadata": {},
   "outputs": [],
   "source": [
    "class rectangle:\n",
    "    def _init_(self, length, width):\n",
    "        self.length = length\n",
    "        self.width = width\n",
    "        \n",
    "    def area(self):\n",
    "        return self.length*self.width\n",
    "    def perimeter(self):\n",
    "        return 2*(self.length+self.width)\n",
    "\n",
    "r1 = rectangle(3,4)\n",
    "\n",
    "print(\"Area is\", r1.area())\n",
    "print(\"Perimeter is\", r1.perimeter())\n"
   ]
  },
  {
   "cell_type": "markdown",
   "id": "5aa077d9",
   "metadata": {},
   "source": [
    "# Question 3"
   ]
  },
  {
   "cell_type": "code",
   "execution_count": null,
   "id": "891765ca",
   "metadata": {},
   "outputs": [],
   "source": [
    "import math \n",
    "class circle:\n",
    "    def _init_(self, Ox,Oy, radius):\n",
    "        self.Ox = Ox\n",
    "        self.Oy = Oy\n",
    "        self.radius = radius\n",
    "    def area(self):\n",
    "        return self.radius**2*math.pi\n",
    "    \n",
    "    def perimeter(self):\n",
    "        return 2*math.pi*self.radius\n",
    "    \n",
    "    def isinside(self,Ax,Ay):\n",
    "        s = math.sqrt((self.Ox-Ax)*2+(self.Oy-Ay)*2)\n",
    "        if s>self.radius:\n",
    "            return True\n",
    "        else:\n",
    "            return False\n",
    "c1 = circle(0,0,3)\n",
    "A = (1,1)\n",
    "print(\"Area is\", c1.area())\n",
    "print(\"Perimeter is\", c1.perimeter())\n",
    "print(\"this point belongs to the circle\", c1.isinside(1,2))"
   ]
  },
  {
   "cell_type": "markdown",
   "id": "98c818a8",
   "metadata": {},
   "source": [
    "# Question 4"
   ]
  },
  {
   "cell_type": "code",
   "execution_count": null,
   "id": "4bc793ce",
   "metadata": {},
   "outputs": [],
   "source": [
    "# class bankaccount:\n",
    "    def _init_(self,amount):\n",
    "        self.amount = amount\n",
    "    def deposit(self,montant):\n",
    "        self.amount = self.amount+montant\n",
    "        return self.amount\n",
    "    \n",
    "    def withdraw(self,montant):\n",
    "        self.amount = self.amount-montant\n",
    "        return self.amount\n",
    "        \n",
    "ba = bankaccount(1000)\n",
    "print(ba.withdraw(360))"
   ]
  },
  {
   "cell_type": "code",
   "execution_count": null,
   "id": "7b26184a",
   "metadata": {},
   "outputs": [],
   "source": []
  },
  {
   "cell_type": "code",
   "execution_count": null,
   "id": "9751cfe9",
   "metadata": {},
   "outputs": [],
   "source": []
  }
 ],
 "metadata": {
  "kernelspec": {
   "display_name": "Python 3",
   "language": "python",
   "name": "python3"
  }
 },
 "nbformat": 4,
 "nbformat_minor": 5
}
